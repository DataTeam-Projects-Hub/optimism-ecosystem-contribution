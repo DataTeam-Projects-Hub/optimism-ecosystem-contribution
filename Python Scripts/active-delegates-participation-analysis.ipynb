{
 "cells": [
  {
   "cell_type": "code",
   "execution_count": 36,
   "id": "aabb63ec",
   "metadata": {},
   "outputs": [],
   "source": [
    "import pandas as pd"
   ]
  },
  {
   "cell_type": "code",
   "execution_count": 37,
   "id": "6dda2c30",
   "metadata": {},
   "outputs": [],
   "source": [
    "top_delegates_df = pd.read_csv(\"../Data/Active_Delegates_Data.csv\")"
   ]
  },
  {
   "cell_type": "code",
   "execution_count": 38,
   "id": "fb16cda0",
   "metadata": {},
   "outputs": [
    {
     "name": "stdout",
     "output_type": "stream",
     "text": [
      "<class 'pandas.core.frame.DataFrame'>\n",
      "RangeIndex: 250 entries, 0 to 249\n",
      "Data columns (total 3 columns):\n",
      " #   Column        Non-Null Count  Dtype  \n",
      "---  ------        --------------  -----  \n",
      " 0   block_time    250 non-null    object \n",
      " 1   delegate      250 non-null    object \n",
      " 2   voting_power  250 non-null    float64\n",
      "dtypes: float64(1), object(2)\n",
      "memory usage: 6.0+ KB\n"
     ]
    }
   ],
   "source": [
    "top_delegates_df.info()"
   ]
  },
  {
   "cell_type": "code",
   "execution_count": 39,
   "id": "b55eb152",
   "metadata": {},
   "outputs": [
    {
     "data": {
      "text/html": [
       "<div>\n",
       "<style scoped>\n",
       "    .dataframe tbody tr th:only-of-type {\n",
       "        vertical-align: middle;\n",
       "    }\n",
       "\n",
       "    .dataframe tbody tr th {\n",
       "        vertical-align: top;\n",
       "    }\n",
       "\n",
       "    .dataframe thead th {\n",
       "        text-align: right;\n",
       "    }\n",
       "</style>\n",
       "<table border=\"1\" class=\"dataframe\">\n",
       "  <thead>\n",
       "    <tr style=\"text-align: right;\">\n",
       "      <th></th>\n",
       "      <th>block_time</th>\n",
       "      <th>delegate</th>\n",
       "      <th>voting_power</th>\n",
       "    </tr>\n",
       "  </thead>\n",
       "  <tbody>\n",
       "    <tr>\n",
       "      <th>0</th>\n",
       "      <td>2025-06-17 23:44:09.000 UTC</td>\n",
       "      <td>0x3eee61b92c36e97be6319bf9096a1ac3c04a1466</td>\n",
       "      <td>1.106106e+07</td>\n",
       "    </tr>\n",
       "    <tr>\n",
       "      <th>1</th>\n",
       "      <td>2025-06-17 18:48:55.000 UTC</td>\n",
       "      <td>0x2ac5393d1f4be4ef89b45ee2f93d7f20a5cf6d5a</td>\n",
       "      <td>7.026118e+06</td>\n",
       "    </tr>\n",
       "    <tr>\n",
       "      <th>2</th>\n",
       "      <td>2025-06-17 20:10:45.000 UTC</td>\n",
       "      <td>0x06ad892ce23c136bbda3a821570343a2af3e2914</td>\n",
       "      <td>5.557348e+06</td>\n",
       "    </tr>\n",
       "    <tr>\n",
       "      <th>3</th>\n",
       "      <td>2025-06-17 15:25:15.000 UTC</td>\n",
       "      <td>0xf11b6a8c3cb8bb7dbc1518a613b10ceb0bbfc06b</td>\n",
       "      <td>5.221303e+06</td>\n",
       "    </tr>\n",
       "    <tr>\n",
       "      <th>4</th>\n",
       "      <td>2025-06-17 23:44:01.000 UTC</td>\n",
       "      <td>0x1b686ee8e31c5959d9f5bbd8122a58682788eead</td>\n",
       "      <td>5.040763e+06</td>\n",
       "    </tr>\n",
       "  </tbody>\n",
       "</table>\n",
       "</div>"
      ],
      "text/plain": [
       "                    block_time                                    delegate  \\\n",
       "0  2025-06-17 23:44:09.000 UTC  0x3eee61b92c36e97be6319bf9096a1ac3c04a1466   \n",
       "1  2025-06-17 18:48:55.000 UTC  0x2ac5393d1f4be4ef89b45ee2f93d7f20a5cf6d5a   \n",
       "2  2025-06-17 20:10:45.000 UTC  0x06ad892ce23c136bbda3a821570343a2af3e2914   \n",
       "3  2025-06-17 15:25:15.000 UTC  0xf11b6a8c3cb8bb7dbc1518a613b10ceb0bbfc06b   \n",
       "4  2025-06-17 23:44:01.000 UTC  0x1b686ee8e31c5959d9f5bbd8122a58682788eead   \n",
       "\n",
       "   voting_power  \n",
       "0  1.106106e+07  \n",
       "1  7.026118e+06  \n",
       "2  5.557348e+06  \n",
       "3  5.221303e+06  \n",
       "4  5.040763e+06  "
      ]
     },
     "execution_count": 39,
     "metadata": {},
     "output_type": "execute_result"
    }
   ],
   "source": [
    "top_delegates_df.head()"
   ]
  },
  {
   "cell_type": "code",
   "execution_count": 40,
   "id": "b55d742d",
   "metadata": {},
   "outputs": [],
   "source": [
    "votes_df = pd.read_csv(\"../Data/Agora_Proposal_Votes.csv\")"
   ]
  },
  {
   "cell_type": "code",
   "execution_count": 41,
   "id": "c2483af3",
   "metadata": {},
   "outputs": [
    {
     "name": "stdout",
     "output_type": "stream",
     "text": [
      "<class 'pandas.core.frame.DataFrame'>\n",
      "RangeIndex: 112560 entries, 0 to 112559\n",
      "Data columns (total 5 columns):\n",
      " #   Column      Non-Null Count   Dtype  \n",
      "---  ------      --------------   -----  \n",
      " 0   proposalId  112560 non-null  object \n",
      " 1   address     112560 non-null  object \n",
      " 2   timestamp   112560 non-null  object \n",
      " 3   support     112560 non-null  object \n",
      " 4   weight      112560 non-null  float64\n",
      "dtypes: float64(1), object(4)\n",
      "memory usage: 4.3+ MB\n"
     ]
    }
   ],
   "source": [
    "votes_df.info()"
   ]
  },
  {
   "cell_type": "code",
   "execution_count": 42,
   "id": "f794180c",
   "metadata": {},
   "outputs": [
    {
     "data": {
      "text/html": [
       "<div>\n",
       "<style scoped>\n",
       "    .dataframe tbody tr th:only-of-type {\n",
       "        vertical-align: middle;\n",
       "    }\n",
       "\n",
       "    .dataframe tbody tr th {\n",
       "        vertical-align: top;\n",
       "    }\n",
       "\n",
       "    .dataframe thead th {\n",
       "        text-align: right;\n",
       "    }\n",
       "</style>\n",
       "<table border=\"1\" class=\"dataframe\">\n",
       "  <thead>\n",
       "    <tr style=\"text-align: right;\">\n",
       "      <th></th>\n",
       "      <th>proposalId</th>\n",
       "      <th>address</th>\n",
       "      <th>timestamp</th>\n",
       "      <th>support</th>\n",
       "      <th>weight</th>\n",
       "    </tr>\n",
       "  </thead>\n",
       "  <tbody>\n",
       "    <tr>\n",
       "      <th>0</th>\n",
       "      <td>1099608625850195404769236791570123626409652639...</td>\n",
       "      <td>0x60ec4fd8069513f738f3a0f41b9e00c294e74bf3</td>\n",
       "      <td>2025-04-24T18:58:45.000Z</td>\n",
       "      <td>FOR</td>\n",
       "      <td>616478.541200</td>\n",
       "    </tr>\n",
       "    <tr>\n",
       "      <th>1</th>\n",
       "      <td>1099608625850195404769236791570123626409652639...</td>\n",
       "      <td>0x010dc5440ad49f9ec0dd325b622d9fd225944ee4</td>\n",
       "      <td>2025-04-24T18:22:19.000Z</td>\n",
       "      <td>FOR</td>\n",
       "      <td>121166.613047</td>\n",
       "    </tr>\n",
       "    <tr>\n",
       "      <th>2</th>\n",
       "      <td>1099608625850195404769236791570123626409652639...</td>\n",
       "      <td>0x0331969e189d63fbc31d771bb04ab44227d748d8</td>\n",
       "      <td>2025-04-24T19:02:11.000Z</td>\n",
       "      <td>FOR</td>\n",
       "      <td>106811.043504</td>\n",
       "    </tr>\n",
       "    <tr>\n",
       "      <th>3</th>\n",
       "      <td>1099608625850195404769236791570123626409652639...</td>\n",
       "      <td>0x0edfcf9bb8b59b07e53b9b1c4d92351e8d922ab8</td>\n",
       "      <td>2025-04-24T19:26:49.000Z</td>\n",
       "      <td>FOR</td>\n",
       "      <td>736.569032</td>\n",
       "    </tr>\n",
       "    <tr>\n",
       "      <th>4</th>\n",
       "      <td>1099608625850195404769236791570123626409652639...</td>\n",
       "      <td>0xbe5afc63dc7b7dcd95631d6e37bbe44e9672a9df</td>\n",
       "      <td>2025-04-24T19:13:37.000Z</td>\n",
       "      <td>FOR</td>\n",
       "      <td>676.288173</td>\n",
       "    </tr>\n",
       "  </tbody>\n",
       "</table>\n",
       "</div>"
      ],
      "text/plain": [
       "                                          proposalId  \\\n",
       "0  1099608625850195404769236791570123626409652639...   \n",
       "1  1099608625850195404769236791570123626409652639...   \n",
       "2  1099608625850195404769236791570123626409652639...   \n",
       "3  1099608625850195404769236791570123626409652639...   \n",
       "4  1099608625850195404769236791570123626409652639...   \n",
       "\n",
       "                                      address                 timestamp  \\\n",
       "0  0x60ec4fd8069513f738f3a0f41b9e00c294e74bf3  2025-04-24T18:58:45.000Z   \n",
       "1  0x010dc5440ad49f9ec0dd325b622d9fd225944ee4  2025-04-24T18:22:19.000Z   \n",
       "2  0x0331969e189d63fbc31d771bb04ab44227d748d8  2025-04-24T19:02:11.000Z   \n",
       "3  0x0edfcf9bb8b59b07e53b9b1c4d92351e8d922ab8  2025-04-24T19:26:49.000Z   \n",
       "4  0xbe5afc63dc7b7dcd95631d6e37bbe44e9672a9df  2025-04-24T19:13:37.000Z   \n",
       "\n",
       "  support         weight  \n",
       "0     FOR  616478.541200  \n",
       "1     FOR  121166.613047  \n",
       "2     FOR  106811.043504  \n",
       "3     FOR     736.569032  \n",
       "4     FOR     676.288173  "
      ]
     },
     "execution_count": 42,
     "metadata": {},
     "output_type": "execute_result"
    }
   ],
   "source": [
    "votes_df.head()"
   ]
  },
  {
   "cell_type": "code",
   "execution_count": 43,
   "id": "512c7c2c",
   "metadata": {},
   "outputs": [
    {
     "data": {
      "text/plain": [
       "array(['109960862585019540476923679157012362640965263962961594700088102558430487321742',\n",
       "       '38506287861710446593663598830868940900144818754960277981092485594195671514829',\n",
       "       '105196850607896626370893604768027381433548036180811365072963268567142002370039',\n",
       "       '84511922734478887667300419900648701566511387783615524992018614345859900443455',\n",
       "       '95528263587371532982719325402371584327430753545162858644972401153516332664853',\n",
       "       '8705916809146420472067303211131851783087744913535435360574720946039078686841',\n",
       "       '71928632649116715308847337447543955907072794738294227130170691217045092512147',\n",
       "       '31049359136632781771607732021569520613741907517136820917236339424553298132866',\n",
       "       '3505139576575581948952533286313165208104296221987341923460133599388956364165',\n",
       "       '91828175807003897805022589352934414611981179534075907474227649658339164272992'],\n",
       "      dtype=object)"
      ]
     },
     "execution_count": 43,
     "metadata": {},
     "output_type": "execute_result"
    }
   ],
   "source": [
    "# unique proposals\n",
    "votes_df['proposalId'].unique()"
   ]
  },
  {
   "cell_type": "code",
   "execution_count": 44,
   "id": "259d267b",
   "metadata": {},
   "outputs": [],
   "source": [
    "# Ensure consistent address formatting\n",
    "top_delegates_df['delegate'] = top_delegates_df['delegate'].str.lower()\n",
    "votes_df['address'] = votes_df['address'].str.lower()\n",
    "\n",
    "# Filter votes_df to include only top delegates\n",
    "filtered_votes = votes_df[votes_df['address'].isin(top_delegates_df['delegate'])]\n",
    "\n",
    "# Count number of unique proposals each delegate voted on\n",
    "activity_df = (\n",
    "    filtered_votes.groupby('address')['proposalId']\n",
    "    .nunique()\n",
    "    .reset_index()\n",
    "    .rename(columns={'address': 'delegate', 'proposalId': 'proposal_participation_count'})\n",
    ")\n",
    "\n",
    "# Merge with top_delegates_df to include voting_power, even for inactive ones\n",
    "final_activity = top_delegates_df.merge(activity_df, on='delegate', how='left')\n",
    "final_activity['proposal_participation_count'] = final_activity['proposal_participation_count'].fillna(0).astype(int)\n",
    "\n",
    "# Sort by most active\n",
    "final_activity = final_activity.sort_values(by='proposal_participation_count', ascending=False)\n"
   ]
  },
  {
   "cell_type": "code",
   "execution_count": 45,
   "id": "1ce7a3f8",
   "metadata": {},
   "outputs": [
    {
     "data": {
      "text/html": [
       "<div>\n",
       "<style scoped>\n",
       "    .dataframe tbody tr th:only-of-type {\n",
       "        vertical-align: middle;\n",
       "    }\n",
       "\n",
       "    .dataframe tbody tr th {\n",
       "        vertical-align: top;\n",
       "    }\n",
       "\n",
       "    .dataframe thead th {\n",
       "        text-align: right;\n",
       "    }\n",
       "</style>\n",
       "<table border=\"1\" class=\"dataframe\">\n",
       "  <thead>\n",
       "    <tr style=\"text-align: right;\">\n",
       "      <th></th>\n",
       "      <th>delegate</th>\n",
       "      <th>voting_power</th>\n",
       "      <th>proposal_participation_count</th>\n",
       "    </tr>\n",
       "  </thead>\n",
       "  <tbody>\n",
       "    <tr>\n",
       "      <th>239</th>\n",
       "      <td>0xcef28ce7884ae973990fb826c1986afaa9319b9a</td>\n",
       "      <td>10211.934669</td>\n",
       "      <td>9</td>\n",
       "    </tr>\n",
       "    <tr>\n",
       "      <th>131</th>\n",
       "      <td>0x054becf10c79afa4e60f75b187837be9fb83867d</td>\n",
       "      <td>55115.819890</td>\n",
       "      <td>9</td>\n",
       "    </tr>\n",
       "    <tr>\n",
       "      <th>205</th>\n",
       "      <td>0x3f11753c51a8acc79b78b729d477948b4b880da1</td>\n",
       "      <td>14496.836953</td>\n",
       "      <td>9</td>\n",
       "    </tr>\n",
       "    <tr>\n",
       "      <th>245</th>\n",
       "      <td>0xc3e8ac233f02d13c1e299e47ae230c205e0177ed</td>\n",
       "      <td>9836.246099</td>\n",
       "      <td>9</td>\n",
       "    </tr>\n",
       "    <tr>\n",
       "      <th>233</th>\n",
       "      <td>0x8c57a2288bd9d1a4e02114195678d8eaa215a7a1</td>\n",
       "      <td>10517.215481</td>\n",
       "      <td>9</td>\n",
       "    </tr>\n",
       "    <tr>\n",
       "      <th>...</th>\n",
       "      <td>...</td>\n",
       "      <td>...</td>\n",
       "      <td>...</td>\n",
       "    </tr>\n",
       "    <tr>\n",
       "      <th>234</th>\n",
       "      <td>0xc540eb6c7b3e44ef8a45db3ad8618404baed88f6</td>\n",
       "      <td>10490.646591</td>\n",
       "      <td>0</td>\n",
       "    </tr>\n",
       "    <tr>\n",
       "      <th>244</th>\n",
       "      <td>0x80898b704baa55e7e37f1128fc6ae5836661f54a</td>\n",
       "      <td>9881.418102</td>\n",
       "      <td>0</td>\n",
       "    </tr>\n",
       "    <tr>\n",
       "      <th>247</th>\n",
       "      <td>0xd101ee8ab789b5ac467cd0c5343ac596e074e7a9</td>\n",
       "      <td>9651.902232</td>\n",
       "      <td>0</td>\n",
       "    </tr>\n",
       "    <tr>\n",
       "      <th>248</th>\n",
       "      <td>0x2a704f87cb047691139c6fec103ffbb10f9c67a2</td>\n",
       "      <td>9563.831504</td>\n",
       "      <td>0</td>\n",
       "    </tr>\n",
       "    <tr>\n",
       "      <th>249</th>\n",
       "      <td>0xc102f76973f4890cab1b5d1ed26f3623381983af</td>\n",
       "      <td>9534.247626</td>\n",
       "      <td>0</td>\n",
       "    </tr>\n",
       "  </tbody>\n",
       "</table>\n",
       "<p>250 rows × 3 columns</p>\n",
       "</div>"
      ],
      "text/plain": [
       "                                       delegate  voting_power  \\\n",
       "239  0xcef28ce7884ae973990fb826c1986afaa9319b9a  10211.934669   \n",
       "131  0x054becf10c79afa4e60f75b187837be9fb83867d  55115.819890   \n",
       "205  0x3f11753c51a8acc79b78b729d477948b4b880da1  14496.836953   \n",
       "245  0xc3e8ac233f02d13c1e299e47ae230c205e0177ed   9836.246099   \n",
       "233  0x8c57a2288bd9d1a4e02114195678d8eaa215a7a1  10517.215481   \n",
       "..                                          ...           ...   \n",
       "234  0xc540eb6c7b3e44ef8a45db3ad8618404baed88f6  10490.646591   \n",
       "244  0x80898b704baa55e7e37f1128fc6ae5836661f54a   9881.418102   \n",
       "247  0xd101ee8ab789b5ac467cd0c5343ac596e074e7a9   9651.902232   \n",
       "248  0x2a704f87cb047691139c6fec103ffbb10f9c67a2   9563.831504   \n",
       "249  0xc102f76973f4890cab1b5d1ed26f3623381983af   9534.247626   \n",
       "\n",
       "     proposal_participation_count  \n",
       "239                             9  \n",
       "131                             9  \n",
       "205                             9  \n",
       "245                             9  \n",
       "233                             9  \n",
       "..                            ...  \n",
       "234                             0  \n",
       "244                             0  \n",
       "247                             0  \n",
       "248                             0  \n",
       "249                             0  \n",
       "\n",
       "[250 rows x 3 columns]"
      ]
     },
     "execution_count": 45,
     "metadata": {},
     "output_type": "execute_result"
    }
   ],
   "source": [
    "# Display result\n",
    "final_activity[['delegate', 'voting_power', 'proposal_participation_count']]"
   ]
  },
  {
   "cell_type": "code",
   "execution_count": 46,
   "id": "d478c939",
   "metadata": {},
   "outputs": [
    {
     "name": "stdout",
     "output_type": "stream",
     "text": [
      "Number of top 250 delegates who did NOT vote on any of the proposals: 114\n"
     ]
    }
   ],
   "source": [
    "# Count how many delegates did not vote on any proposals\n",
    "inactive_delegates = final_activity[final_activity['proposal_participation_count'] == 0]\n",
    "\n",
    "# Total count\n",
    "num_inactive = len(inactive_delegates)\n",
    "\n",
    "print(f\"Number of top 250 delegates who did NOT vote on any of the proposals: {num_inactive}\")"
   ]
  },
  {
   "cell_type": "code",
   "execution_count": 47,
   "id": "e9fd49ac",
   "metadata": {},
   "outputs": [
    {
     "data": {
      "text/html": [
       "<div>\n",
       "<style scoped>\n",
       "    .dataframe tbody tr th:only-of-type {\n",
       "        vertical-align: middle;\n",
       "    }\n",
       "\n",
       "    .dataframe tbody tr th {\n",
       "        vertical-align: top;\n",
       "    }\n",
       "\n",
       "    .dataframe thead th {\n",
       "        text-align: right;\n",
       "    }\n",
       "</style>\n",
       "<table border=\"1\" class=\"dataframe\">\n",
       "  <thead>\n",
       "    <tr style=\"text-align: right;\">\n",
       "      <th></th>\n",
       "      <th>delegate</th>\n",
       "      <th>voting_power</th>\n",
       "    </tr>\n",
       "  </thead>\n",
       "  <tbody>\n",
       "    <tr>\n",
       "      <th>101</th>\n",
       "      <td>0x6661db9a250e02444f6f9de670c6d923bcd84cc4</td>\n",
       "      <td>102751.368954</td>\n",
       "    </tr>\n",
       "    <tr>\n",
       "      <th>109</th>\n",
       "      <td>0x01e6b50557ef1a2ca58a621998ace3f278e808b8</td>\n",
       "      <td>86109.820782</td>\n",
       "    </tr>\n",
       "    <tr>\n",
       "      <th>121</th>\n",
       "      <td>0x8289432acd5eb0214b1c2526a5edb480aa06a9ab</td>\n",
       "      <td>64165.498094</td>\n",
       "    </tr>\n",
       "    <tr>\n",
       "      <th>120</th>\n",
       "      <td>0xf51c53b2c184aa43a7d24aa4f0cf13d0e8b56c51</td>\n",
       "      <td>66336.846630</td>\n",
       "    </tr>\n",
       "    <tr>\n",
       "      <th>118</th>\n",
       "      <td>0x062a07cbf4848fda67292a96a5e02c97e402233f</td>\n",
       "      <td>67510.415357</td>\n",
       "    </tr>\n",
       "  </tbody>\n",
       "</table>\n",
       "</div>"
      ],
      "text/plain": [
       "                                       delegate   voting_power\n",
       "101  0x6661db9a250e02444f6f9de670c6d923bcd84cc4  102751.368954\n",
       "109  0x01e6b50557ef1a2ca58a621998ace3f278e808b8   86109.820782\n",
       "121  0x8289432acd5eb0214b1c2526a5edb480aa06a9ab   64165.498094\n",
       "120  0xf51c53b2c184aa43a7d24aa4f0cf13d0e8b56c51   66336.846630\n",
       "118  0x062a07cbf4848fda67292a96a5e02c97e402233f   67510.415357"
      ]
     },
     "execution_count": 47,
     "metadata": {},
     "output_type": "execute_result"
    }
   ],
   "source": [
    "inactive_delegates[['delegate', 'voting_power']].head()"
   ]
  }
 ],
 "metadata": {
  "kernelspec": {
   "display_name": "AI_Delegate",
   "language": "python",
   "name": "python3"
  },
  "language_info": {
   "codemirror_mode": {
    "name": "ipython",
    "version": 3
   },
   "file_extension": ".py",
   "mimetype": "text/x-python",
   "name": "python",
   "nbconvert_exporter": "python",
   "pygments_lexer": "ipython3",
   "version": "3.12.3"
  }
 },
 "nbformat": 4,
 "nbformat_minor": 5
}

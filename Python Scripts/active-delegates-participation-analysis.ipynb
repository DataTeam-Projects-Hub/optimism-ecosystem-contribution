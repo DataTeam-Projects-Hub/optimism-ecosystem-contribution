{
 "cells": [
  {
   "cell_type": "code",
   "execution_count": 1,
   "id": "aabb63ec",
   "metadata": {},
   "outputs": [],
   "source": [
    "import pandas as pd"
   ]
  },
  {
   "cell_type": "code",
   "execution_count": 2,
   "id": "6dda2c30",
   "metadata": {},
   "outputs": [],
   "source": [
    "top_delegates_df = pd.read_csv(\"../Data/Active_Delegates_Data.csv\")"
   ]
  },
  {
   "cell_type": "code",
   "execution_count": 3,
   "id": "fb16cda0",
   "metadata": {},
   "outputs": [
    {
     "name": "stdout",
     "output_type": "stream",
     "text": [
      "<class 'pandas.core.frame.DataFrame'>\n",
      "RangeIndex: 500 entries, 0 to 499\n",
      "Data columns (total 2 columns):\n",
      " #   Column        Non-Null Count  Dtype  \n",
      "---  ------        --------------  -----  \n",
      " 0   delegate      500 non-null    object \n",
      " 1   voting_power  500 non-null    float64\n",
      "dtypes: float64(1), object(1)\n",
      "memory usage: 7.9+ KB\n"
     ]
    }
   ],
   "source": [
    "top_delegates_df.info()"
   ]
  },
  {
   "cell_type": "code",
   "execution_count": 4,
   "id": "b55eb152",
   "metadata": {},
   "outputs": [
    {
     "data": {
      "text/html": [
       "<div>\n",
       "<style scoped>\n",
       "    .dataframe tbody tr th:only-of-type {\n",
       "        vertical-align: middle;\n",
       "    }\n",
       "\n",
       "    .dataframe tbody tr th {\n",
       "        vertical-align: top;\n",
       "    }\n",
       "\n",
       "    .dataframe thead th {\n",
       "        text-align: right;\n",
       "    }\n",
       "</style>\n",
       "<table border=\"1\" class=\"dataframe\">\n",
       "  <thead>\n",
       "    <tr style=\"text-align: right;\">\n",
       "      <th></th>\n",
       "      <th>delegate</th>\n",
       "      <th>voting_power</th>\n",
       "    </tr>\n",
       "  </thead>\n",
       "  <tbody>\n",
       "    <tr>\n",
       "      <th>0</th>\n",
       "      <td>0x3eee61b92c36e97be6319bf9096a1ac3c04a1466</td>\n",
       "      <td>1.105058e+07</td>\n",
       "    </tr>\n",
       "    <tr>\n",
       "      <th>1</th>\n",
       "      <td>0x2ac5393d1f4be4ef89b45ee2f93d7f20a5cf6d5a</td>\n",
       "      <td>7.026108e+06</td>\n",
       "    </tr>\n",
       "    <tr>\n",
       "      <th>2</th>\n",
       "      <td>0x06ad892ce23c136bbda3a821570343a2af3e2914</td>\n",
       "      <td>5.557493e+06</td>\n",
       "    </tr>\n",
       "    <tr>\n",
       "      <th>3</th>\n",
       "      <td>0xf11b6a8c3cb8bb7dbc1518a613b10ceb0bbfc06b</td>\n",
       "      <td>5.221222e+06</td>\n",
       "    </tr>\n",
       "    <tr>\n",
       "      <th>4</th>\n",
       "      <td>0x1b686ee8e31c5959d9f5bbd8122a58682788eead</td>\n",
       "      <td>5.041244e+06</td>\n",
       "    </tr>\n",
       "  </tbody>\n",
       "</table>\n",
       "</div>"
      ],
      "text/plain": [
       "                                     delegate  voting_power\n",
       "0  0x3eee61b92c36e97be6319bf9096a1ac3c04a1466  1.105058e+07\n",
       "1  0x2ac5393d1f4be4ef89b45ee2f93d7f20a5cf6d5a  7.026108e+06\n",
       "2  0x06ad892ce23c136bbda3a821570343a2af3e2914  5.557493e+06\n",
       "3  0xf11b6a8c3cb8bb7dbc1518a613b10ceb0bbfc06b  5.221222e+06\n",
       "4  0x1b686ee8e31c5959d9f5bbd8122a58682788eead  5.041244e+06"
      ]
     },
     "execution_count": 4,
     "metadata": {},
     "output_type": "execute_result"
    }
   ],
   "source": [
    "top_delegates_df.head()"
   ]
  },
  {
   "cell_type": "code",
   "execution_count": 5,
   "id": "b55d742d",
   "metadata": {},
   "outputs": [],
   "source": [
    "votes_df = pd.read_csv(\"../Data/Agora_Votes_Data.csv\")"
   ]
  },
  {
   "cell_type": "code",
   "execution_count": 6,
   "id": "c2483af3",
   "metadata": {},
   "outputs": [
    {
     "name": "stdout",
     "output_type": "stream",
     "text": [
      "<class 'pandas.core.frame.DataFrame'>\n",
      "RangeIndex: 112560 entries, 0 to 112559\n",
      "Data columns (total 5 columns):\n",
      " #   Column      Non-Null Count   Dtype  \n",
      "---  ------      --------------   -----  \n",
      " 0   proposalId  112560 non-null  object \n",
      " 1   address     112560 non-null  object \n",
      " 2   timestamp   112560 non-null  object \n",
      " 3   support     112560 non-null  object \n",
      " 4   weight      112560 non-null  float64\n",
      "dtypes: float64(1), object(4)\n",
      "memory usage: 4.3+ MB\n"
     ]
    }
   ],
   "source": [
    "votes_df.info()"
   ]
  },
  {
   "cell_type": "code",
   "execution_count": 7,
   "id": "f794180c",
   "metadata": {},
   "outputs": [
    {
     "data": {
      "text/html": [
       "<div>\n",
       "<style scoped>\n",
       "    .dataframe tbody tr th:only-of-type {\n",
       "        vertical-align: middle;\n",
       "    }\n",
       "\n",
       "    .dataframe tbody tr th {\n",
       "        vertical-align: top;\n",
       "    }\n",
       "\n",
       "    .dataframe thead th {\n",
       "        text-align: right;\n",
       "    }\n",
       "</style>\n",
       "<table border=\"1\" class=\"dataframe\">\n",
       "  <thead>\n",
       "    <tr style=\"text-align: right;\">\n",
       "      <th></th>\n",
       "      <th>proposalId</th>\n",
       "      <th>address</th>\n",
       "      <th>timestamp</th>\n",
       "      <th>support</th>\n",
       "      <th>weight</th>\n",
       "    </tr>\n",
       "  </thead>\n",
       "  <tbody>\n",
       "    <tr>\n",
       "      <th>0</th>\n",
       "      <td>1099608625850195404769236791570123626409652639...</td>\n",
       "      <td>0x60ec4fd8069513f738f3a0f41b9e00c294e74bf3</td>\n",
       "      <td>2025-04-24T18:58:45.000Z</td>\n",
       "      <td>FOR</td>\n",
       "      <td>616478.541200</td>\n",
       "    </tr>\n",
       "    <tr>\n",
       "      <th>1</th>\n",
       "      <td>1099608625850195404769236791570123626409652639...</td>\n",
       "      <td>0x010dc5440ad49f9ec0dd325b622d9fd225944ee4</td>\n",
       "      <td>2025-04-24T18:22:19.000Z</td>\n",
       "      <td>FOR</td>\n",
       "      <td>121166.613047</td>\n",
       "    </tr>\n",
       "    <tr>\n",
       "      <th>2</th>\n",
       "      <td>1099608625850195404769236791570123626409652639...</td>\n",
       "      <td>0x0331969e189d63fbc31d771bb04ab44227d748d8</td>\n",
       "      <td>2025-04-24T19:02:11.000Z</td>\n",
       "      <td>FOR</td>\n",
       "      <td>106811.043504</td>\n",
       "    </tr>\n",
       "    <tr>\n",
       "      <th>3</th>\n",
       "      <td>1099608625850195404769236791570123626409652639...</td>\n",
       "      <td>0x0edfcf9bb8b59b07e53b9b1c4d92351e8d922ab8</td>\n",
       "      <td>2025-04-24T19:26:49.000Z</td>\n",
       "      <td>FOR</td>\n",
       "      <td>736.569032</td>\n",
       "    </tr>\n",
       "    <tr>\n",
       "      <th>4</th>\n",
       "      <td>1099608625850195404769236791570123626409652639...</td>\n",
       "      <td>0xbe5afc63dc7b7dcd95631d6e37bbe44e9672a9df</td>\n",
       "      <td>2025-04-24T19:13:37.000Z</td>\n",
       "      <td>FOR</td>\n",
       "      <td>676.288173</td>\n",
       "    </tr>\n",
       "  </tbody>\n",
       "</table>\n",
       "</div>"
      ],
      "text/plain": [
       "                                          proposalId  \\\n",
       "0  1099608625850195404769236791570123626409652639...   \n",
       "1  1099608625850195404769236791570123626409652639...   \n",
       "2  1099608625850195404769236791570123626409652639...   \n",
       "3  1099608625850195404769236791570123626409652639...   \n",
       "4  1099608625850195404769236791570123626409652639...   \n",
       "\n",
       "                                      address                 timestamp  \\\n",
       "0  0x60ec4fd8069513f738f3a0f41b9e00c294e74bf3  2025-04-24T18:58:45.000Z   \n",
       "1  0x010dc5440ad49f9ec0dd325b622d9fd225944ee4  2025-04-24T18:22:19.000Z   \n",
       "2  0x0331969e189d63fbc31d771bb04ab44227d748d8  2025-04-24T19:02:11.000Z   \n",
       "3  0x0edfcf9bb8b59b07e53b9b1c4d92351e8d922ab8  2025-04-24T19:26:49.000Z   \n",
       "4  0xbe5afc63dc7b7dcd95631d6e37bbe44e9672a9df  2025-04-24T19:13:37.000Z   \n",
       "\n",
       "  support         weight  \n",
       "0     FOR  616478.541200  \n",
       "1     FOR  121166.613047  \n",
       "2     FOR  106811.043504  \n",
       "3     FOR     736.569032  \n",
       "4     FOR     676.288173  "
      ]
     },
     "execution_count": 7,
     "metadata": {},
     "output_type": "execute_result"
    }
   ],
   "source": [
    "votes_df.head()"
   ]
  },
  {
   "cell_type": "code",
   "execution_count": 8,
   "id": "512c7c2c",
   "metadata": {},
   "outputs": [
    {
     "data": {
      "text/plain": [
       "array(['109960862585019540476923679157012362640965263962961594700088102558430487321742',\n",
       "       '38506287861710446593663598830868940900144818754960277981092485594195671514829',\n",
       "       '105196850607896626370893604768027381433548036180811365072963268567142002370039',\n",
       "       '84511922734478887667300419900648701566511387783615524992018614345859900443455',\n",
       "       '8705916809146420472067303211131851783087744913535435360574720946039078686841',\n",
       "       '95528263587371532982719325402371584327430753545162858644972401153516332664853',\n",
       "       '71928632649116715308847337447543955907072794738294227130170691217045092512147',\n",
       "       '31049359136632781771607732021569520613741907517136820917236339424553298132866',\n",
       "       '3505139576575581948952533286313165208104296221987341923460133599388956364165',\n",
       "       '91828175807003897805022589352934414611981179534075907474227649658339164272992'],\n",
       "      dtype=object)"
      ]
     },
     "execution_count": 8,
     "metadata": {},
     "output_type": "execute_result"
    }
   ],
   "source": [
    "# unique proposals\n",
    "votes_df['proposalId'].unique()"
   ]
  },
  {
   "cell_type": "code",
   "execution_count": 9,
   "id": "259d267b",
   "metadata": {},
   "outputs": [],
   "source": [
    "# Ensure consistent address formatting\n",
    "top_delegates_df['delegate'] = top_delegates_df['delegate'].str.lower()\n",
    "votes_df['address'] = votes_df['address'].str.lower()\n",
    "\n",
    "# Filter votes_df to include only top delegates\n",
    "filtered_votes = votes_df[votes_df['address'].isin(top_delegates_df['delegate'])]\n",
    "\n",
    "# Count number of unique proposals each delegate voted on\n",
    "activity_df = (\n",
    "    filtered_votes.groupby('address')['proposalId']\n",
    "    .nunique()\n",
    "    .reset_index()\n",
    "    .rename(columns={'address': 'delegate', 'proposalId': 'proposal_participation_count'})\n",
    ")\n",
    "\n",
    "# Merge with top_delegates_df to include voting_power, even for inactive ones\n",
    "final_activity = top_delegates_df.merge(activity_df, on='delegate', how='left')\n",
    "final_activity['proposal_participation_count'] = final_activity['proposal_participation_count'].fillna(0).astype(int)\n",
    "\n",
    "# Add percentage participatio column\n",
    "final_activity['participation_percentage'] = (\n",
    "    final_activity['proposal_participation_count'] / 10 * 100\n",
    ").round(2)\n",
    "\n",
    "# Sort by most active\n",
    "final_activity = final_activity.sort_values(by='proposal_participation_count', ascending=False)\n"
   ]
  },
  {
   "cell_type": "code",
   "execution_count": 10,
   "id": "1ce7a3f8",
   "metadata": {},
   "outputs": [
    {
     "data": {
      "text/html": [
       "<div>\n",
       "<style scoped>\n",
       "    .dataframe tbody tr th:only-of-type {\n",
       "        vertical-align: middle;\n",
       "    }\n",
       "\n",
       "    .dataframe tbody tr th {\n",
       "        vertical-align: top;\n",
       "    }\n",
       "\n",
       "    .dataframe thead th {\n",
       "        text-align: right;\n",
       "    }\n",
       "</style>\n",
       "<table border=\"1\" class=\"dataframe\">\n",
       "  <thead>\n",
       "    <tr style=\"text-align: right;\">\n",
       "      <th></th>\n",
       "      <th>delegate</th>\n",
       "      <th>voting_power</th>\n",
       "      <th>proposal_participation_count</th>\n",
       "      <th>participation_percentage</th>\n",
       "    </tr>\n",
       "  </thead>\n",
       "  <tbody>\n",
       "    <tr>\n",
       "      <th>425</th>\n",
       "      <td>0xd115edee06578716cb235fc8b51bd652b8237dc2</td>\n",
       "      <td>4068.158833</td>\n",
       "      <td>9</td>\n",
       "      <td>90.0</td>\n",
       "    </tr>\n",
       "    <tr>\n",
       "      <th>370</th>\n",
       "      <td>0x65d43a62d60f38292a43b9b8ddc0155574db9b62</td>\n",
       "      <td>5161.690514</td>\n",
       "      <td>9</td>\n",
       "      <td>90.0</td>\n",
       "    </tr>\n",
       "    <tr>\n",
       "      <th>377</th>\n",
       "      <td>0xfac890eb4c056323441ec68cf4528e3f3462e16c</td>\n",
       "      <td>5047.764521</td>\n",
       "      <td>9</td>\n",
       "      <td>90.0</td>\n",
       "    </tr>\n",
       "    <tr>\n",
       "      <th>251</th>\n",
       "      <td>0x87950049c98115095496c28eeb8959d9a4ea9752</td>\n",
       "      <td>9441.823696</td>\n",
       "      <td>9</td>\n",
       "      <td>90.0</td>\n",
       "    </tr>\n",
       "    <tr>\n",
       "      <th>234</th>\n",
       "      <td>0x8c57a2288bd9d1a4e02114195678d8eaa215a7a1</td>\n",
       "      <td>10517.215481</td>\n",
       "      <td>9</td>\n",
       "      <td>90.0</td>\n",
       "    </tr>\n",
       "    <tr>\n",
       "      <th>...</th>\n",
       "      <td>...</td>\n",
       "      <td>...</td>\n",
       "      <td>...</td>\n",
       "      <td>...</td>\n",
       "    </tr>\n",
       "    <tr>\n",
       "      <th>490</th>\n",
       "      <td>0xfafb325429351555f9a4dfba846a3c1707657046</td>\n",
       "      <td>3078.456700</td>\n",
       "      <td>0</td>\n",
       "      <td>0.0</td>\n",
       "    </tr>\n",
       "    <tr>\n",
       "      <th>489</th>\n",
       "      <td>0xa1455e19c297b9a0a0e894208d041ad40cc5c23d</td>\n",
       "      <td>3100.864870</td>\n",
       "      <td>0</td>\n",
       "      <td>0.0</td>\n",
       "    </tr>\n",
       "    <tr>\n",
       "      <th>488</th>\n",
       "      <td>0xc0b53221a7dbcbce68441c26ea4da73266d6bc20</td>\n",
       "      <td>3105.686319</td>\n",
       "      <td>0</td>\n",
       "      <td>0.0</td>\n",
       "    </tr>\n",
       "    <tr>\n",
       "      <th>487</th>\n",
       "      <td>0xa4776cf1eeabed027d27090548dfac37e26da2f6</td>\n",
       "      <td>3109.531642</td>\n",
       "      <td>0</td>\n",
       "      <td>0.0</td>\n",
       "    </tr>\n",
       "    <tr>\n",
       "      <th>486</th>\n",
       "      <td>0xcf31ddc2c0b5571ff4e6db70092e1de98aa8d888</td>\n",
       "      <td>3124.211602</td>\n",
       "      <td>0</td>\n",
       "      <td>0.0</td>\n",
       "    </tr>\n",
       "  </tbody>\n",
       "</table>\n",
       "<p>500 rows × 4 columns</p>\n",
       "</div>"
      ],
      "text/plain": [
       "                                       delegate  voting_power  \\\n",
       "425  0xd115edee06578716cb235fc8b51bd652b8237dc2   4068.158833   \n",
       "370  0x65d43a62d60f38292a43b9b8ddc0155574db9b62   5161.690514   \n",
       "377  0xfac890eb4c056323441ec68cf4528e3f3462e16c   5047.764521   \n",
       "251  0x87950049c98115095496c28eeb8959d9a4ea9752   9441.823696   \n",
       "234  0x8c57a2288bd9d1a4e02114195678d8eaa215a7a1  10517.215481   \n",
       "..                                          ...           ...   \n",
       "490  0xfafb325429351555f9a4dfba846a3c1707657046   3078.456700   \n",
       "489  0xa1455e19c297b9a0a0e894208d041ad40cc5c23d   3100.864870   \n",
       "488  0xc0b53221a7dbcbce68441c26ea4da73266d6bc20   3105.686319   \n",
       "487  0xa4776cf1eeabed027d27090548dfac37e26da2f6   3109.531642   \n",
       "486  0xcf31ddc2c0b5571ff4e6db70092e1de98aa8d888   3124.211602   \n",
       "\n",
       "     proposal_participation_count  participation_percentage  \n",
       "425                             9                      90.0  \n",
       "370                             9                      90.0  \n",
       "377                             9                      90.0  \n",
       "251                             9                      90.0  \n",
       "234                             9                      90.0  \n",
       "..                            ...                       ...  \n",
       "490                             0                       0.0  \n",
       "489                             0                       0.0  \n",
       "488                             0                       0.0  \n",
       "487                             0                       0.0  \n",
       "486                             0                       0.0  \n",
       "\n",
       "[500 rows x 4 columns]"
      ]
     },
     "execution_count": 10,
     "metadata": {},
     "output_type": "execute_result"
    }
   ],
   "source": [
    "# Display result\n",
    "final_activity[['delegate', 'voting_power', 'proposal_participation_count', 'participation_percentage']]"
   ]
  },
  {
   "cell_type": "code",
   "execution_count": 11,
   "id": "d478c939",
   "metadata": {},
   "outputs": [
    {
     "name": "stdout",
     "output_type": "stream",
     "text": [
      "Number of top 500 delegates who did NOT vote on any of the proposals: 279\n"
     ]
    }
   ],
   "source": [
    "# Count how many delegates did not vote on any proposals\n",
    "inactive_delegates = final_activity[final_activity['proposal_participation_count'] == 0]\n",
    "\n",
    "# Total count\n",
    "num_inactive = len(inactive_delegates)\n",
    "\n",
    "print(f\"Number of top 500 delegates who did NOT vote on any of the proposals: {num_inactive}\")"
   ]
  },
  {
   "cell_type": "code",
   "execution_count": 12,
   "id": "e9fd49ac",
   "metadata": {},
   "outputs": [
    {
     "data": {
      "text/html": [
       "<div>\n",
       "<style scoped>\n",
       "    .dataframe tbody tr th:only-of-type {\n",
       "        vertical-align: middle;\n",
       "    }\n",
       "\n",
       "    .dataframe tbody tr th {\n",
       "        vertical-align: top;\n",
       "    }\n",
       "\n",
       "    .dataframe thead th {\n",
       "        text-align: right;\n",
       "    }\n",
       "</style>\n",
       "<table border=\"1\" class=\"dataframe\">\n",
       "  <thead>\n",
       "    <tr style=\"text-align: right;\">\n",
       "      <th></th>\n",
       "      <th>delegate</th>\n",
       "      <th>voting_power</th>\n",
       "    </tr>\n",
       "  </thead>\n",
       "  <tbody>\n",
       "    <tr>\n",
       "      <th>467</th>\n",
       "      <td>0xd836da33a6629548271eb9ef4f62d083376eb4a6</td>\n",
       "      <td>3.316256e+03</td>\n",
       "    </tr>\n",
       "    <tr>\n",
       "      <th>3</th>\n",
       "      <td>0xf11b6a8c3cb8bb7dbc1518a613b10ceb0bbfc06b</td>\n",
       "      <td>5.221222e+06</td>\n",
       "    </tr>\n",
       "    <tr>\n",
       "      <th>5</th>\n",
       "      <td>0xeff8d84e0fd304550da242040ccd45bd44ce71f1</td>\n",
       "      <td>5.004885e+06</td>\n",
       "    </tr>\n",
       "    <tr>\n",
       "      <th>9</th>\n",
       "      <td>0x5e349eca2dc61abcd9dd99ce94d04136151a09ee</td>\n",
       "      <td>2.593659e+06</td>\n",
       "    </tr>\n",
       "    <tr>\n",
       "      <th>480</th>\n",
       "      <td>0x1d19da85322c5f14201be546c326e0e6f521b6e6</td>\n",
       "      <td>3.151565e+03</td>\n",
       "    </tr>\n",
       "  </tbody>\n",
       "</table>\n",
       "</div>"
      ],
      "text/plain": [
       "                                       delegate  voting_power\n",
       "467  0xd836da33a6629548271eb9ef4f62d083376eb4a6  3.316256e+03\n",
       "3    0xf11b6a8c3cb8bb7dbc1518a613b10ceb0bbfc06b  5.221222e+06\n",
       "5    0xeff8d84e0fd304550da242040ccd45bd44ce71f1  5.004885e+06\n",
       "9    0x5e349eca2dc61abcd9dd99ce94d04136151a09ee  2.593659e+06\n",
       "480  0x1d19da85322c5f14201be546c326e0e6f521b6e6  3.151565e+03"
      ]
     },
     "execution_count": 12,
     "metadata": {},
     "output_type": "execute_result"
    }
   ],
   "source": [
    "inactive_delegates[['delegate', 'voting_power']].head()"
   ]
  }
 ],
 "metadata": {
  "kernelspec": {
   "display_name": "AI_Delegate",
   "language": "python",
   "name": "python3"
  },
  "language_info": {
   "codemirror_mode": {
    "name": "ipython",
    "version": 3
   },
   "file_extension": ".py",
   "mimetype": "text/x-python",
   "name": "python",
   "nbconvert_exporter": "python",
   "pygments_lexer": "ipython3",
   "version": "3.12.3"
  }
 },
 "nbformat": 4,
 "nbformat_minor": 5
}

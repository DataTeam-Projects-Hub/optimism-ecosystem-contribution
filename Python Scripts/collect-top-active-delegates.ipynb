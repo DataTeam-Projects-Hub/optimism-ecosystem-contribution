{
 "cells": [
  {
   "cell_type": "code",
   "execution_count": 1,
   "id": "44820e24",
   "metadata": {},
   "outputs": [],
   "source": [
    "# Import required libraries\n",
    "import csv\n",
    "from dune_client.client import DuneClient"
   ]
  },
  {
   "cell_type": "code",
   "execution_count": 2,
   "id": "878cacbf",
   "metadata": {},
   "outputs": [
    {
     "name": "stdout",
     "output_type": "stream",
     "text": [
      "Data written to ../Data/Active_Delegates_Data.csv\n"
     ]
    }
   ],
   "source": [
    "api_key = \"WPWyWJJZEPTxvOwQmpcHbfbHoqXHaWxv\"  # Replace with your Dune API key\n",
    "query_id = 5301108  # Replace with your query ID\n",
    "\n",
    "# Initialize the DuneClient\n",
    "dune = DuneClient(api_key)\n",
    "\n",
    "# Function to fetch Dune query results\n",
    "def fetch_dune_query_results(query_id):\n",
    "    try:\n",
    "        query_result = dune.get_latest_result(query_id)\n",
    "        return query_result.result.rows  # Access the rows in the response\n",
    "    except Exception as e:\n",
    "        print(f\"Error fetching query results: {e}\")\n",
    "        return None\n",
    "\n",
    "# Function to write results to CSV\n",
    "def write_to_csv(data, file_name):\n",
    "    try:\n",
    "        # Open file in write mode\n",
    "        with open(file_name, mode='w', newline='') as file:\n",
    "            writer = csv.writer(file)\n",
    "            \n",
    "            # Write headers (keys of the first row)\n",
    "            if len(data) > 0:\n",
    "                headers = data[0].keys()  # Get keys from the first row\n",
    "                writer.writerow(headers)\n",
    "                \n",
    "                # Write rows (values)\n",
    "                for row in data:\n",
    "                    writer.writerow(row.values())\n",
    "        print(f\"Data written to {file_name}\")\n",
    "    except Exception as e:\n",
    "        print(f\"Error writing to CSV: {e}\")\n",
    "\n",
    "# Main code to fetch and save results\n",
    "if __name__ == \"__main__\":\n",
    "    result = fetch_dune_query_results(query_id)\n",
    "    if result:\n",
    "        file_name = \"../Data/Active_Delegates_Data.csv\"\n",
    "        write_to_csv(result, file_name)"
   ]
  },
  {
   "cell_type": "code",
   "execution_count": null,
   "id": "4ae12ff2",
   "metadata": {},
   "outputs": [],
   "source": []
  }
 ],
 "metadata": {
  "kernelspec": {
   "display_name": "AI_Delegate",
   "language": "python",
   "name": "python3"
  },
  "language_info": {
   "codemirror_mode": {
    "name": "ipython",
    "version": 3
   },
   "file_extension": ".py",
   "mimetype": "text/x-python",
   "name": "python",
   "nbconvert_exporter": "python",
   "pygments_lexer": "ipython3",
   "version": "3.12.3"
  }
 },
 "nbformat": 4,
 "nbformat_minor": 5
}

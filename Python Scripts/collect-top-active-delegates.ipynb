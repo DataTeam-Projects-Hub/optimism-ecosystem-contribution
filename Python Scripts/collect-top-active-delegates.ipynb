{
 "cells": [
  {
   "cell_type": "code",
   "execution_count": 2,
   "id": "44820e24",
   "metadata": {},
   "outputs": [],
   "source": [
    "# Import required libraries\n",
    "import csv\n",
    "import requests\n",
    "import pandas as pd\n",
    "from datetime import datetime\n",
    "import os\n",
    "from dune_client.client import DuneClient"
   ]
  },
  {
   "cell_type": "markdown",
   "id": "e36a3775",
   "metadata": {},
   "source": [
    "### Fetch the results from Dune"
   ]
  },
  {
   "cell_type": "code",
   "execution_count": 2,
   "id": "878cacbf",
   "metadata": {},
   "outputs": [
    {
     "name": "stdout",
     "output_type": "stream",
     "text": [
      "Data written to ../Data/Active_Delegates_Data.csv\n"
     ]
    }
   ],
   "source": [
    "api_key = \"WPWyWJJZEPTxvOwQmpcHbfbHoqXHaWxv\"  # Replace with your Dune API key\n",
    "query_id = 5301108  # Replace with your query ID\n",
    "\n",
    "# Initialize the DuneClient\n",
    "dune = DuneClient(api_key)\n",
    "\n",
    "# Function to fetch Dune query results\n",
    "def fetch_dune_query_results(query_id):\n",
    "    try:\n",
    "        query_result = dune.get_latest_result(query_id)\n",
    "        return query_result.result.rows  # Access the rows in the response\n",
    "    except Exception as e:\n",
    "        print(f\"Error fetching query results: {e}\")\n",
    "        return None\n",
    "\n",
    "# Function to write results to CSV\n",
    "def write_to_csv(data, file_name):\n",
    "    try:\n",
    "        # Open file in write mode\n",
    "        with open(file_name, mode='w', newline='') as file:\n",
    "            writer = csv.writer(file)\n",
    "            \n",
    "            # Write headers (keys of the first row)\n",
    "            if len(data) > 0:\n",
    "                headers = data[0].keys()  # Get keys from the first row\n",
    "                writer.writerow(headers)\n",
    "                \n",
    "                # Write rows (values)\n",
    "                for row in data:\n",
    "                    writer.writerow(row.values())\n",
    "        print(f\"Data written to {file_name}\")\n",
    "    except Exception as e:\n",
    "        print(f\"Error writing to CSV: {e}\")\n",
    "\n",
    "# Main code to fetch and save results\n",
    "if __name__ == \"__main__\":\n",
    "    result = fetch_dune_query_results(query_id)\n",
    "    if result:\n",
    "        file_name = \"../Data/Active_Delegates_Data.csv\"\n",
    "        write_to_csv(result, file_name)"
   ]
  },
  {
   "cell_type": "markdown",
   "id": "95ac5249",
   "metadata": {},
   "source": [
    "### Fetch the delegates from the Subgraph"
   ]
  },
  {
   "cell_type": "code",
   "execution_count": 3,
   "id": "10023502",
   "metadata": {},
   "outputs": [
    {
     "name": "stdout",
     "output_type": "stream",
     "text": [
      "Data saved to ../Data/Active_Delegates_Data.csv\n"
     ]
    }
   ],
   "source": [
    "def fetch_top_500_delegates():\n",
    "    \"\"\"\n",
    "    Fetches the top 200 delegates sorted by latestBalance in descending order.\n",
    "    Returns:\n",
    "        pd.DataFrame: A DataFrame containing delegate address and voting power.\n",
    "        str: Filename where data is saved.\n",
    "    \"\"\"\n",
    "    url = \"https://api.studio.thegraph.com/query/68573/op/v0.0.9\"\n",
    "\n",
    "    query = \"\"\"\n",
    "    query {\n",
    "      delegates(first: 500, orderBy: latestBalance, orderDirection: desc) {\n",
    "        id\n",
    "        latestBalance\n",
    "      }\n",
    "    }\n",
    "    \"\"\"\n",
    "\n",
    "    try:\n",
    "        response = requests.post(url, json={\"query\": query})\n",
    "        response.raise_for_status()\n",
    "        result = response.json()\n",
    "\n",
    "        if \"errors\" in result:\n",
    "            raise ValueError(f\"GraphQL Error: {result['errors']}\")\n",
    "\n",
    "        data = result.get(\"data\", {}).get(\"delegates\", [])\n",
    "        if not data:\n",
    "            print(\"No data returned.\")\n",
    "            return pd.DataFrame(), None\n",
    "\n",
    "        # Convert to DataFrame and process\n",
    "        df = pd.DataFrame(data)\n",
    "        df.rename(columns={\"id\": \"delegate\", \"latestBalance\": \"voting_power\"}, inplace=True)\n",
    "        df[\"voting_power\"] = df[\"voting_power\"].astype(float) / 1e18\n",
    "\n",
    "        # Save to CSV\n",
    "        current_date = datetime.now().strftime(\"%Y-%m-%d\")\n",
    "        file = \"../Data/Active_Delegates_Data.csv\"\n",
    "        df.to_csv(file, index=False)\n",
    "        print(f\"Data saved to {file}\")\n",
    "\n",
    "        return df\n",
    "\n",
    "    except Exception as e:\n",
    "        print(f\"Error fetching data: {e}\")\n",
    "        return pd.DataFrame(), None\n",
    "\n",
    "df = fetch_top_500_delegates()\n"
   ]
  },
  {
   "cell_type": "code",
   "execution_count": 4,
   "id": "9a7c3ff9",
   "metadata": {},
   "outputs": [],
   "source": [
    "delegates_df = pd.read_csv(\"../Data/Active_Delegates_Data.csv\")"
   ]
  },
  {
   "cell_type": "code",
   "execution_count": 5,
   "id": "2d7baceb",
   "metadata": {},
   "outputs": [
    {
     "data": {
      "text/html": [
       "<div>\n",
       "<style scoped>\n",
       "    .dataframe tbody tr th:only-of-type {\n",
       "        vertical-align: middle;\n",
       "    }\n",
       "\n",
       "    .dataframe tbody tr th {\n",
       "        vertical-align: top;\n",
       "    }\n",
       "\n",
       "    .dataframe thead th {\n",
       "        text-align: right;\n",
       "    }\n",
       "</style>\n",
       "<table border=\"1\" class=\"dataframe\">\n",
       "  <thead>\n",
       "    <tr style=\"text-align: right;\">\n",
       "      <th></th>\n",
       "      <th>delegate</th>\n",
       "      <th>voting_power</th>\n",
       "    </tr>\n",
       "  </thead>\n",
       "  <tbody>\n",
       "    <tr>\n",
       "      <th>0</th>\n",
       "      <td>0x3eee61b92c36e97be6319bf9096a1ac3c04a1466</td>\n",
       "      <td>1.105058e+07</td>\n",
       "    </tr>\n",
       "    <tr>\n",
       "      <th>1</th>\n",
       "      <td>0x2ac5393d1f4be4ef89b45ee2f93d7f20a5cf6d5a</td>\n",
       "      <td>7.026108e+06</td>\n",
       "    </tr>\n",
       "    <tr>\n",
       "      <th>2</th>\n",
       "      <td>0x06ad892ce23c136bbda3a821570343a2af3e2914</td>\n",
       "      <td>5.557493e+06</td>\n",
       "    </tr>\n",
       "    <tr>\n",
       "      <th>3</th>\n",
       "      <td>0xf11b6a8c3cb8bb7dbc1518a613b10ceb0bbfc06b</td>\n",
       "      <td>5.221222e+06</td>\n",
       "    </tr>\n",
       "    <tr>\n",
       "      <th>4</th>\n",
       "      <td>0x1b686ee8e31c5959d9f5bbd8122a58682788eead</td>\n",
       "      <td>5.041244e+06</td>\n",
       "    </tr>\n",
       "    <tr>\n",
       "      <th>...</th>\n",
       "      <td>...</td>\n",
       "      <td>...</td>\n",
       "    </tr>\n",
       "    <tr>\n",
       "      <th>495</th>\n",
       "      <td>0xf42ad66f4b66628584f2e97421a008d62a8f116c</td>\n",
       "      <td>3.018360e+03</td>\n",
       "    </tr>\n",
       "    <tr>\n",
       "      <th>496</th>\n",
       "      <td>0x8b78d14e242ccba658af9455df6c021f2e4e994f</td>\n",
       "      <td>3.002746e+03</td>\n",
       "    </tr>\n",
       "    <tr>\n",
       "      <th>497</th>\n",
       "      <td>0x5b93ff82faaf241c15997ea3975419dddd8362c5</td>\n",
       "      <td>2.963086e+03</td>\n",
       "    </tr>\n",
       "    <tr>\n",
       "      <th>498</th>\n",
       "      <td>0xd1c416489922301dbacad84d177c3d750720c81c</td>\n",
       "      <td>2.947680e+03</td>\n",
       "    </tr>\n",
       "    <tr>\n",
       "      <th>499</th>\n",
       "      <td>0xb1e59b4e09e1bde4d9766e7a839d122d82fc6b04</td>\n",
       "      <td>2.943001e+03</td>\n",
       "    </tr>\n",
       "  </tbody>\n",
       "</table>\n",
       "<p>500 rows × 2 columns</p>\n",
       "</div>"
      ],
      "text/plain": [
       "                                       delegate  voting_power\n",
       "0    0x3eee61b92c36e97be6319bf9096a1ac3c04a1466  1.105058e+07\n",
       "1    0x2ac5393d1f4be4ef89b45ee2f93d7f20a5cf6d5a  7.026108e+06\n",
       "2    0x06ad892ce23c136bbda3a821570343a2af3e2914  5.557493e+06\n",
       "3    0xf11b6a8c3cb8bb7dbc1518a613b10ceb0bbfc06b  5.221222e+06\n",
       "4    0x1b686ee8e31c5959d9f5bbd8122a58682788eead  5.041244e+06\n",
       "..                                          ...           ...\n",
       "495  0xf42ad66f4b66628584f2e97421a008d62a8f116c  3.018360e+03\n",
       "496  0x8b78d14e242ccba658af9455df6c021f2e4e994f  3.002746e+03\n",
       "497  0x5b93ff82faaf241c15997ea3975419dddd8362c5  2.963086e+03\n",
       "498  0xd1c416489922301dbacad84d177c3d750720c81c  2.947680e+03\n",
       "499  0xb1e59b4e09e1bde4d9766e7a839d122d82fc6b04  2.943001e+03\n",
       "\n",
       "[500 rows x 2 columns]"
      ]
     },
     "execution_count": 5,
     "metadata": {},
     "output_type": "execute_result"
    }
   ],
   "source": [
    "delegates_df"
   ]
  }
 ],
 "metadata": {
  "kernelspec": {
   "display_name": "AI_Delegate",
   "language": "python",
   "name": "python3"
  },
  "language_info": {
   "codemirror_mode": {
    "name": "ipython",
    "version": 3
   },
   "file_extension": ".py",
   "mimetype": "text/x-python",
   "name": "python",
   "nbconvert_exporter": "python",
   "pygments_lexer": "ipython3",
   "version": "3.12.3"
  }
 },
 "nbformat": 4,
 "nbformat_minor": 5
}

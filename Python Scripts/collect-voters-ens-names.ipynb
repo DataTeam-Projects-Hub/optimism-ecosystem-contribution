{
 "cells": [
  {
   "cell_type": "code",
   "execution_count": 7,
   "id": "d3ae72c8",
   "metadata": {},
   "outputs": [],
   "source": [
    "import pandas as pd\n",
    "from web3 import Web3\n",
    "from ens import ENS\n",
    "import time"
   ]
  },
  {
   "cell_type": "markdown",
   "id": "54b5388b",
   "metadata": {},
   "source": [
    "### Verify the ENS name of one address"
   ]
  },
  {
   "cell_type": "code",
   "execution_count": 8,
   "id": "8c26ba1b",
   "metadata": {},
   "outputs": [
    {
     "name": "stdout",
     "output_type": "stream",
     "text": [
      "vitalik.eth\n"
     ]
    }
   ],
   "source": [
    "w3 = Web3(Web3.HTTPProvider(\"https://mainnet.infura.io/v3/cdb5558227644c388f01f4f83d1f2296\"))\n",
    "ns = ENS.from_web3(w3)\n",
    "\n",
    "# Example address\n",
    "print(ns.name(\"0xd8dA6BF26964aF9D7eEd9e03E53415D37aA96045\"))  # should return 'vitalik.eth'"
   ]
  },
  {
   "cell_type": "markdown",
   "id": "d1a813d5",
   "metadata": {},
   "source": [
    "### Fetch ENS names of Voters"
   ]
  },
  {
   "cell_type": "code",
   "execution_count": 9,
   "id": "11181fc9",
   "metadata": {},
   "outputs": [],
   "source": [
    "votes = pd.read_csv(\"../Data/Votes_Data.csv\")"
   ]
  },
  {
   "cell_type": "code",
   "execution_count": 10,
   "id": "56e9b2a3",
   "metadata": {},
   "outputs": [
    {
     "name": "stdout",
     "output_type": "stream",
     "text": [
      "<class 'pandas.core.frame.DataFrame'>\n",
      "RangeIndex: 1111 entries, 0 to 1110\n",
      "Data columns (total 14 columns):\n",
      " #   Column                  Non-Null Count  Dtype \n",
      "---  ------                  --------------  ----- \n",
      " 0   vote_id                 1111 non-null   object\n",
      " 1   voter_address           1111 non-null   object\n",
      " 2   voting_power            1111 non-null   int64 \n",
      " 3   vote_timestamp          1111 non-null   int64 \n",
      " 4   proposal_id             1111 non-null   object\n",
      " 5   proposal_title          1111 non-null   object\n",
      " 6   proposal_type           1111 non-null   object\n",
      " 7   proposal_choices        1111 non-null   object\n",
      " 8   proposal_creation_date  1111 non-null   int64 \n",
      " 9   proposal_start_date     1111 non-null   int64 \n",
      " 10  proposal_end_date       1111 non-null   int64 \n",
      " 11  choice                  1111 non-null   object\n",
      " 12  reason                  182 non-null    object\n",
      " 13  space                   1111 non-null   object\n",
      "dtypes: int64(5), object(9)\n",
      "memory usage: 121.6+ KB\n"
     ]
    }
   ],
   "source": [
    "votes.info()"
   ]
  },
  {
   "cell_type": "code",
   "execution_count": 11,
   "id": "7bddb0e5",
   "metadata": {},
   "outputs": [
    {
     "name": "stdout",
     "output_type": "stream",
     "text": [
      "Voters_Data saved successfully with ENS names.\n"
     ]
    }
   ],
   "source": [
    "# Extract unique voter addresses\n",
    "unique_addresses = votes['voter_address'].dropna().unique()\n",
    "\n",
    "# Set up Web3 and ENS\n",
    "infura_url = \"https://mainnet.infura.io/v3/cdb5558227644c388f01f4f83d1f2296\"\n",
    "w3 = Web3(Web3.HTTPProvider(infura_url))\n",
    "ns = ENS.from_web3(w3)\n",
    "\n",
    "# Fetch ENS names for each address\n",
    "ens_data = []\n",
    "\n",
    "for address in unique_addresses:\n",
    "    try:\n",
    "        name = ns.name(address)\n",
    "        ens_data.append({\"voter_address\": address, \"voter_name\": name})\n",
    "    except Exception as e:\n",
    "        ens_data.append({\"voter_address\": address, \"voter_name\": None})\n",
    "    time.sleep(0.2)  \n",
    "\n",
    "# Step 4: Save to CSV\n",
    "ens_df = pd.DataFrame(ens_data)\n",
    "ens_df.to_csv(\"../Data/Voters_Data.csv\", index=False, encoding='utf-8')\n",
    "print(\"Voters_Data saved successfully with ENS names.\")"
   ]
  },
  {
   "cell_type": "code",
   "execution_count": 18,
   "id": "f9dbcd1c",
   "metadata": {},
   "outputs": [],
   "source": [
    "voters_data = pd.read_csv(\"../Data/Voters_Data.csv\")"
   ]
  },
  {
   "cell_type": "code",
   "execution_count": 19,
   "id": "9e32b7a9",
   "metadata": {},
   "outputs": [
    {
     "data": {
      "text/html": [
       "<div>\n",
       "<style scoped>\n",
       "    .dataframe tbody tr th:only-of-type {\n",
       "        vertical-align: middle;\n",
       "    }\n",
       "\n",
       "    .dataframe tbody tr th {\n",
       "        vertical-align: top;\n",
       "    }\n",
       "\n",
       "    .dataframe thead th {\n",
       "        text-align: right;\n",
       "    }\n",
       "</style>\n",
       "<table border=\"1\" class=\"dataframe\">\n",
       "  <thead>\n",
       "    <tr style=\"text-align: right;\">\n",
       "      <th></th>\n",
       "      <th>voter_address</th>\n",
       "      <th>voter_name</th>\n",
       "    </tr>\n",
       "  </thead>\n",
       "  <tbody>\n",
       "    <tr>\n",
       "      <th>0</th>\n",
       "      <td>0xF4B0556B9B6F53E00A1FDD2b0478Ce841991D8fA</td>\n",
       "      <td>olimpio.eth</td>\n",
       "    </tr>\n",
       "    <tr>\n",
       "      <th>1</th>\n",
       "      <td>0x6Dc43be93a8b5Fd37dC16f24872BaBc6dA5E5e3E</td>\n",
       "      <td>james.eth</td>\n",
       "    </tr>\n",
       "    <tr>\n",
       "      <th>2</th>\n",
       "      <td>0x06F455e2C297a4Ae015191FA7A4A11C77c5b1b7c</td>\n",
       "      <td>hazbobo.eth</td>\n",
       "    </tr>\n",
       "    <tr>\n",
       "      <th>3</th>\n",
       "      <td>0x0331969e189D63fBc31D771Bb04Ab44227D748D8</td>\n",
       "      <td>luckyhooman.eth</td>\n",
       "    </tr>\n",
       "    <tr>\n",
       "      <th>4</th>\n",
       "      <td>0x69E271483C38ED4902a55C3Ea8AAb9e7cc8617E5</td>\n",
       "      <td>wildmolasses.eth</td>\n",
       "    </tr>\n",
       "    <tr>\n",
       "      <th>...</th>\n",
       "      <td>...</td>\n",
       "      <td>...</td>\n",
       "    </tr>\n",
       "    <tr>\n",
       "      <th>126</th>\n",
       "      <td>0x4Fd6B3204A6Ab48978018b25821682F090840333</td>\n",
       "      <td>cryptochica.eth</td>\n",
       "    </tr>\n",
       "    <tr>\n",
       "      <th>127</th>\n",
       "      <td>0x0f2CE18919b4eb9838760cFDDa65E4C8766E9c19</td>\n",
       "      <td>NaN</td>\n",
       "    </tr>\n",
       "    <tr>\n",
       "      <th>128</th>\n",
       "      <td>0x2B888954421b424C5D3D9Ce9bB67c9bD47537d12</td>\n",
       "      <td>lefteris.eth</td>\n",
       "    </tr>\n",
       "    <tr>\n",
       "      <th>129</th>\n",
       "      <td>0x842bB1bb84CC8A3D6277b0ff9729d22D55E9C50B</td>\n",
       "      <td>NaN</td>\n",
       "    </tr>\n",
       "    <tr>\n",
       "      <th>130</th>\n",
       "      <td>0x48A63097E1Ac123b1f5A8bbfFafA4afa8192FaB0</td>\n",
       "      <td>ceresstation.eth</td>\n",
       "    </tr>\n",
       "  </tbody>\n",
       "</table>\n",
       "<p>131 rows × 2 columns</p>\n",
       "</div>"
      ],
      "text/plain": [
       "                                  voter_address        voter_name\n",
       "0    0xF4B0556B9B6F53E00A1FDD2b0478Ce841991D8fA       olimpio.eth\n",
       "1    0x6Dc43be93a8b5Fd37dC16f24872BaBc6dA5E5e3E         james.eth\n",
       "2    0x06F455e2C297a4Ae015191FA7A4A11C77c5b1b7c       hazbobo.eth\n",
       "3    0x0331969e189D63fBc31D771Bb04Ab44227D748D8   luckyhooman.eth\n",
       "4    0x69E271483C38ED4902a55C3Ea8AAb9e7cc8617E5  wildmolasses.eth\n",
       "..                                          ...               ...\n",
       "126  0x4Fd6B3204A6Ab48978018b25821682F090840333   cryptochica.eth\n",
       "127  0x0f2CE18919b4eb9838760cFDDa65E4C8766E9c19               NaN\n",
       "128  0x2B888954421b424C5D3D9Ce9bB67c9bD47537d12      lefteris.eth\n",
       "129  0x842bB1bb84CC8A3D6277b0ff9729d22D55E9C50B               NaN\n",
       "130  0x48A63097E1Ac123b1f5A8bbfFafA4afa8192FaB0  ceresstation.eth\n",
       "\n",
       "[131 rows x 2 columns]"
      ]
     },
     "execution_count": 19,
     "metadata": {},
     "output_type": "execute_result"
    }
   ],
   "source": [
    "voters_data"
   ]
  },
  {
   "cell_type": "code",
   "execution_count": 20,
   "id": "0207bac1",
   "metadata": {},
   "outputs": [
    {
     "name": "stderr",
     "output_type": "stream",
     "text": [
      "C:\\Users\\LENOVO\\AppData\\Local\\Temp\\ipykernel_17608\\1397747394.py:1: FutureWarning: A value is trying to be set on a copy of a DataFrame or Series through chained assignment using an inplace method.\n",
      "The behavior will change in pandas 3.0. This inplace method will never work because the intermediate object on which we are setting values always behaves as a copy.\n",
      "\n",
      "For example, when doing 'df[col].method(value, inplace=True)', try using 'df.method({col: value}, inplace=True)' or df[col] = df[col].method(value) instead, to perform the operation inplace on the original object.\n",
      "\n",
      "\n",
      "  voters_data['voter_name'].fillna(\"N/A\", inplace=True)\n"
     ]
    }
   ],
   "source": [
    "voters_data['voter_name'].fillna(\"N/A\", inplace=True)"
   ]
  },
  {
   "cell_type": "code",
   "execution_count": 21,
   "id": "c38cf2eb",
   "metadata": {},
   "outputs": [
    {
     "data": {
      "text/html": [
       "<div>\n",
       "<style scoped>\n",
       "    .dataframe tbody tr th:only-of-type {\n",
       "        vertical-align: middle;\n",
       "    }\n",
       "\n",
       "    .dataframe tbody tr th {\n",
       "        vertical-align: top;\n",
       "    }\n",
       "\n",
       "    .dataframe thead th {\n",
       "        text-align: right;\n",
       "    }\n",
       "</style>\n",
       "<table border=\"1\" class=\"dataframe\">\n",
       "  <thead>\n",
       "    <tr style=\"text-align: right;\">\n",
       "      <th></th>\n",
       "      <th>voter_address</th>\n",
       "      <th>voter_name</th>\n",
       "    </tr>\n",
       "  </thead>\n",
       "  <tbody>\n",
       "    <tr>\n",
       "      <th>0</th>\n",
       "      <td>0xF4B0556B9B6F53E00A1FDD2b0478Ce841991D8fA</td>\n",
       "      <td>olimpio.eth</td>\n",
       "    </tr>\n",
       "    <tr>\n",
       "      <th>1</th>\n",
       "      <td>0x6Dc43be93a8b5Fd37dC16f24872BaBc6dA5E5e3E</td>\n",
       "      <td>james.eth</td>\n",
       "    </tr>\n",
       "    <tr>\n",
       "      <th>2</th>\n",
       "      <td>0x06F455e2C297a4Ae015191FA7A4A11C77c5b1b7c</td>\n",
       "      <td>hazbobo.eth</td>\n",
       "    </tr>\n",
       "    <tr>\n",
       "      <th>3</th>\n",
       "      <td>0x0331969e189D63fBc31D771Bb04Ab44227D748D8</td>\n",
       "      <td>luckyhooman.eth</td>\n",
       "    </tr>\n",
       "    <tr>\n",
       "      <th>4</th>\n",
       "      <td>0x69E271483C38ED4902a55C3Ea8AAb9e7cc8617E5</td>\n",
       "      <td>wildmolasses.eth</td>\n",
       "    </tr>\n",
       "    <tr>\n",
       "      <th>...</th>\n",
       "      <td>...</td>\n",
       "      <td>...</td>\n",
       "    </tr>\n",
       "    <tr>\n",
       "      <th>126</th>\n",
       "      <td>0x4Fd6B3204A6Ab48978018b25821682F090840333</td>\n",
       "      <td>cryptochica.eth</td>\n",
       "    </tr>\n",
       "    <tr>\n",
       "      <th>127</th>\n",
       "      <td>0x0f2CE18919b4eb9838760cFDDa65E4C8766E9c19</td>\n",
       "      <td>N/A</td>\n",
       "    </tr>\n",
       "    <tr>\n",
       "      <th>128</th>\n",
       "      <td>0x2B888954421b424C5D3D9Ce9bB67c9bD47537d12</td>\n",
       "      <td>lefteris.eth</td>\n",
       "    </tr>\n",
       "    <tr>\n",
       "      <th>129</th>\n",
       "      <td>0x842bB1bb84CC8A3D6277b0ff9729d22D55E9C50B</td>\n",
       "      <td>N/A</td>\n",
       "    </tr>\n",
       "    <tr>\n",
       "      <th>130</th>\n",
       "      <td>0x48A63097E1Ac123b1f5A8bbfFafA4afa8192FaB0</td>\n",
       "      <td>ceresstation.eth</td>\n",
       "    </tr>\n",
       "  </tbody>\n",
       "</table>\n",
       "<p>131 rows × 2 columns</p>\n",
       "</div>"
      ],
      "text/plain": [
       "                                  voter_address        voter_name\n",
       "0    0xF4B0556B9B6F53E00A1FDD2b0478Ce841991D8fA       olimpio.eth\n",
       "1    0x6Dc43be93a8b5Fd37dC16f24872BaBc6dA5E5e3E         james.eth\n",
       "2    0x06F455e2C297a4Ae015191FA7A4A11C77c5b1b7c       hazbobo.eth\n",
       "3    0x0331969e189D63fBc31D771Bb04Ab44227D748D8   luckyhooman.eth\n",
       "4    0x69E271483C38ED4902a55C3Ea8AAb9e7cc8617E5  wildmolasses.eth\n",
       "..                                          ...               ...\n",
       "126  0x4Fd6B3204A6Ab48978018b25821682F090840333   cryptochica.eth\n",
       "127  0x0f2CE18919b4eb9838760cFDDa65E4C8766E9c19               N/A\n",
       "128  0x2B888954421b424C5D3D9Ce9bB67c9bD47537d12      lefteris.eth\n",
       "129  0x842bB1bb84CC8A3D6277b0ff9729d22D55E9C50B               N/A\n",
       "130  0x48A63097E1Ac123b1f5A8bbfFafA4afa8192FaB0  ceresstation.eth\n",
       "\n",
       "[131 rows x 2 columns]"
      ]
     },
     "execution_count": 21,
     "metadata": {},
     "output_type": "execute_result"
    }
   ],
   "source": [
    "voters_data"
   ]
  },
  {
   "cell_type": "code",
   "execution_count": 22,
   "id": "ce2c6a1e",
   "metadata": {},
   "outputs": [],
   "source": [
    "voters_data.to_json(\"../Data/Voters_Data.json\", orient=\"records\", indent=2, force_ascii=False)"
   ]
  }
 ],
 "metadata": {
  "kernelspec": {
   "display_name": "Python 3",
   "language": "python",
   "name": "python3"
  },
  "language_info": {
   "codemirror_mode": {
    "name": "ipython",
    "version": 3
   },
   "file_extension": ".py",
   "mimetype": "text/x-python",
   "name": "python",
   "nbconvert_exporter": "python",
   "pygments_lexer": "ipython3",
   "version": "3.12.3"
  }
 },
 "nbformat": 4,
 "nbformat_minor": 5
}
